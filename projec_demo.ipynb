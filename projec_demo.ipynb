{
 "cells": [
  {
   "cell_type": "markdown",
   "id": "55c920f7",
   "metadata": {},
   "source": [
    "# Tidal Report\n",
    "blah blah blah blah"
   ]
  },
  {
   "cell_type": "code",
   "execution_count": 13,
   "id": "bf6b0c38",
   "metadata": {},
   "outputs": [
    {
     "ename": "NameError",
     "evalue": "name 'x' is not defined",
     "output_type": "error",
     "traceback": [
      "\u001b[1;31m---------------------------------------------------------------------------\u001b[0m",
      "\u001b[1;31mNameError\u001b[0m                                 Traceback (most recent call last)",
      "Cell \u001b[1;32mIn[13], line 42\u001b[0m\n\u001b[0;32m     39\u001b[0m     \u001b[38;5;66;03m# Create a legend without a frame\u001b[39;00m\n\u001b[0;32m     40\u001b[0m     \u001b[38;5;66;03m# in the upper left-hand corner\u001b[39;00m\n\u001b[0;32m     41\u001b[0m     ax\u001b[38;5;241m.\u001b[39mlegend(loc\u001b[38;5;241m=\u001b[39m\u001b[38;5;124m'\u001b[39m\u001b[38;5;124mupper left\u001b[39m\u001b[38;5;124m'\u001b[39m, frameon\u001b[38;5;241m=\u001b[39m\u001b[38;5;28;01mFalse\u001b[39;00m)\n\u001b[1;32m---> 42\u001b[0m \u001b[38;5;28;01mfor\u001b[39;00m xi, yi, time \u001b[38;5;129;01min\u001b[39;00m \u001b[38;5;28mzip\u001b[39m(\u001b[43mx\u001b[49m, y, annotations):\n\u001b[0;32m     43\u001b[0m         plt\u001b[38;5;241m.\u001b[39mannotate(\u001b[38;5;124mf\u001b[39m\u001b[38;5;124m'\u001b[39m\u001b[38;5;132;01m{\u001b[39;00mtime\u001b[38;5;132;01m}\u001b[39;00m\u001b[38;5;124m'\u001b[39m,\n\u001b[0;32m     44\u001b[0m                      xy\u001b[38;5;241m=\u001b[39m(xi, yi), xycoords\u001b[38;5;241m=\u001b[39m\u001b[38;5;124m'\u001b[39m\u001b[38;5;124mdata\u001b[39m\u001b[38;5;124m'\u001b[39m,\n\u001b[0;32m     45\u001b[0m                      xytext\u001b[38;5;241m=\u001b[39m(\u001b[38;5;241m0\u001b[39m, \u001b[38;5;241m8\u001b[39m), textcoords\u001b[38;5;241m=\u001b[39m\u001b[38;5;124m'\u001b[39m\u001b[38;5;124moffset points\u001b[39m\u001b[38;5;124m'\u001b[39m)\n\u001b[0;32m     47\u001b[0m     \u001b[38;5;66;03m# Save the plot?\u001b[39;00m\n",
      "\u001b[1;31mNameError\u001b[0m: name 'x' is not defined"
     ]
    }
   ],
   "source": [
    "import numpy as np\n",
    "import matplotlib.pyplot as plt\n",
    "from matplotlib.ticker import MultipleLocator\n",
    "\n",
    "# define plot\n",
    "def scatter_plot(x, y,\n",
    "                 flag_save=True,    # save the figure?\n",
    "                 xlabel='Day of the Year',        # x-axis label\n",
    "                 ylabel='Tide Height(ft)',        # y-axis label\n",
    "                 lcolor='blue',      # line color\n",
    "                 pcolor='black',     # point color\n",
    "                 fs=14,             # font size\n",
    "                 fname='test_group.png'):  # default plot filename\n",
    "\n",
    "    # By default, flag_save = True, and we'll save the figure\n",
    "    # to a file. The plot filename fname = 'plot.png' by\n",
    "    # Define figure and axis\n",
    "    f, ax = plt.subplots(1, 1, figsize=(20, 12))\n",
    "\n",
    "    ax.grid(True)\n",
    "\n",
    "    ax.xaxis.set_tick_params(which='major', direction='in')\n",
    "\n",
    "    ax.xaxis.set_major_locator(MultipleLocator(1.))\n",
    "\n",
    "    ax.yaxis.set_minor_locator(MultipleLocator(0.3))\n",
    "\n",
    "    # Plot y vs. x\n",
    "    ax.plot(x, y, color=lcolor, linewidth=1.5, label='Tidal Movements')  # a line\n",
    "    ax.errorbar(x, y, fmt='o', color=pcolor, markersize=5, label='Recorded tide value')  # circles\n",
    "\n",
    "    # Label our axes\n",
    "    ax.set_xlabel(xlabel, fontsize=fs)\n",
    "    ax.set_ylabel(ylabel, fontsize=fs)\n",
    "\n",
    "    ax.set_xlim(0, 42)\n",
    "    ax.set_ylim(-2, 8)\n",
    "\n",
    "    # Create a legend without a frame\n",
    "    # in the upper left-hand corner\n",
    "    ax.legend(loc='upper left', frameon=False)\n",
    "for xi, yi, time in zip(x, y, annotations):\n",
    "        plt.annotate(f'{time}',\n",
    "                     xy=(xi, yi), xycoords='data',\n",
    "                     xytext=(0, 8), textcoords='offset points')\n",
    "\n",
    "    # Save the plot?\n",
    "if flag_save:\n",
    "    plt.savefig(fname='grouo', bbox_inches='tight', dpi=400)\n",
    "\n",
    "print('Making a plot...') \n",
    "scatter_plot(x, y)\n"
   ]
  },
  {
   "cell_type": "code",
   "execution_count": null,
   "id": "3de104ff",
   "metadata": {},
   "outputs": [],
   "source": []
  },
  {
   "cell_type": "code",
   "execution_count": null,
   "id": "eaca96f2-9e65-42af-aeb5-03cb34a0df5d",
   "metadata": {},
   "outputs": [],
   "source": []
  }
 ],
 "metadata": {
  "kernelspec": {
   "display_name": "Python 3 (ipykernel)",
   "language": "python",
   "name": "python3"
  },
  "language_info": {
   "codemirror_mode": {
    "name": "ipython",
    "version": 3
   },
   "file_extension": ".py",
   "mimetype": "text/x-python",
   "name": "python",
   "nbconvert_exporter": "python",
   "pygments_lexer": "ipython3",
   "version": "3.11.5"
  }
 },
 "nbformat": 4,
 "nbformat_minor": 5
}
