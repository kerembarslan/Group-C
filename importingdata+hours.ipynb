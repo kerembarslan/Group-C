{
 "cells": [
  {
   "cell_type": "markdown",
   "id": "e6d27747-a3eb-4873-ae62-edba65835768",
   "metadata": {},
   "source": [
    "# Import Libraries"
   ]
  },
  {
   "cell_type": "code",
   "execution_count": 101,
   "id": "34850d6e-a034-491f-8ca8-2531d6f9d0b7",
   "metadata": {},
   "outputs": [],
   "source": [
    "import numpy as np\n",
    "import datetime\n",
    "from datetime import datetime\n",
    "import matplotlib.pyplot as plt\n",
    "from astropy.io import ascii"
   ]
  },
  {
   "cell_type": "markdown",
   "id": "b58f23b0-4ef2-463b-bf8e-39ae2d7ebd55",
   "metadata": {},
   "source": [
    "# Reading the file and converting time stamps to total hours"
   ]
  },
  {
   "cell_type": "code",
   "execution_count": 99,
   "id": "725d111a-8ecf-43b7-b9df-040dc10dccdd",
   "metadata": {},
   "outputs": [
    {
     "ename": "ValueError",
     "evalue": "could not convert string to float: ''",
     "output_type": "error",
     "traceback": [
      "\u001b[0;31m---------------------------------------------------------------------------\u001b[0m",
      "\u001b[0;31mValueError\u001b[0m                                Traceback (most recent call last)",
      "Cell \u001b[0;32mIn[99], line 12\u001b[0m\n\u001b[1;32m     10\u001b[0m     days\u001b[38;5;241m.\u001b[39mappend(x\u001b[38;5;241m.\u001b[39msplit(\u001b[38;5;124m'\u001b[39m\u001b[38;5;124m \u001b[39m\u001b[38;5;124m'\u001b[39m)[\u001b[38;5;241m0\u001b[39m]) \n\u001b[1;32m     11\u001b[0m     times\u001b[38;5;241m.\u001b[39mappend(x\u001b[38;5;241m.\u001b[39msplit(\u001b[38;5;124m'\u001b[39m\u001b[38;5;124m \u001b[39m\u001b[38;5;124m'\u001b[39m)[\u001b[38;5;241m1\u001b[39m])    \u001b[38;5;66;03m#use only one colum of data specifically the 2nd one\u001b[39;00m\n\u001b[0;32m---> 12\u001b[0m     height\u001b[38;5;241m.\u001b[39mappend(\u001b[38;5;28;43mfloat\u001b[39;49m\u001b[43m(\u001b[49m\u001b[43mx\u001b[49m\u001b[38;5;241;43m.\u001b[39;49m\u001b[43msplit\u001b[49m\u001b[43m(\u001b[49m\u001b[38;5;124;43m'\u001b[39;49m\u001b[38;5;124;43m \u001b[39;49m\u001b[38;5;124;43m'\u001b[39;49m\u001b[43m)\u001b[49m\u001b[43m[\u001b[49m\u001b[38;5;241;43m2\u001b[39;49m\u001b[43m]\u001b[49m\u001b[43m)\u001b[49m)  \n\u001b[1;32m     13\u001b[0m days \u001b[38;5;241m=\u001b[39m x\n\u001b[1;32m     14\u001b[0m times \u001b[38;5;241m=\u001b[39m y\n",
      "\u001b[0;31mValueError\u001b[0m: could not convert string to float: ''"
     ]
    }
   ],
   "source": [
    "#read the file\n",
    "fname = 'group-data.txt'   #define filename\n",
    "f = open(fname, 'r')     #open file\n",
    "group_data = f.readlines()   #read file\n",
    "\n",
    "times = []\n",
    "days = []\n",
    "height = []\n",
    "for x in group_data:\n",
    "    days.append(x.split(' ')[0]) \n",
    "    times.append(x.split(' ')[1])    #use only one colum of data specifically the 2nd one\n",
    "    height.append(float(x.split(' ')[2]))  \n",
    "days = x\n",
    "times = y\n",
    "height = z\n",
    "print(x)\n",
    "print(y)\n",
    "print(z)\n",
    "#ours_list = []    #defines the original list of hours\n",
    "#for time in tide_times:\n",
    "   # datetime_obj = datetime.strptime(time, \"%H:%M\")  #parse time define the hour and the minute\n",
    "   # hours = datetime_obj.hour + datetime_obj.minute / 60     #add the minutes / 60 to the hours to get total hours\n",
    "    #hours_list.append(hours)  #add values to the list\n",
    "   # rounded_hours = [round(hours,2)for hours in hours_list]   #round horus by two decimals\n",
    "#print(rounded_hours)\n",
    "#y = rounded_hours\n",
    "f.close()"
   ]
  },
  {
   "cell_type": "code",
   "execution_count": 117,
   "id": "cf368b47-e3e3-4ac5-a896-0a6f7034ec6a",
   "metadata": {},
   "outputs": [
    {
     "name": "stdout",
     "output_type": "stream",
     "text": [
      "[ 8.11666667 15.61666667  8.91666667 16.41666667  9.75       17.23333333\n",
      " 10.58333333 18.         11.46666667 18.76666667 12.36666667 19.51666667\n",
      " 13.4        20.26666667  3.36666667 21.01666667  4.11666667 21.76666667\n",
      "  4.83333333 11.96666667  5.51666667 12.93333333  6.13333333 13.75\n",
      "  6.78333333 14.41666667  7.36666667 15.          7.98333333 15.56666667\n",
      "  8.56666667 16.13333333  9.16666667 16.68333333  9.75       17.2\n",
      " 10.35       17.75       10.95       18.25       11.63333333 18.8\n",
      " 12.41666667 19.33333333  2.36666667 19.86666667  2.96666667 20.5\n",
      "  3.61666667 10.73333333  4.38333333 11.91666667  5.25       12.95\n",
      "  6.15       13.83333333  7.08333333 14.65        7.96666667 15.45\n",
      "  8.83333333 16.16666667  9.66666667 16.86666667 10.5        17.56666667\n",
      " 11.31666667 18.2        12.16666667 18.81666667  1.53333333 19.4\n",
      "  2.21666667 20.          2.9         9.9         3.65       11.25\n",
      "  4.48333333 12.36666667  5.35       13.23333333]\n"
     ]
    }
   ],
   "source": [
    "data = ascii.read('group-data.txt')\n",
    "day=np.zeros(len(data))\n",
    "height=np.zeros(len(data))\n",
    "time=np.zeros(len(data))\n",
    "hours = np.zeros(len(data))\n",
    "for i in range(len(data)):\n",
    "    day[i] = data[i][0]\n",
    "    datetime_obj = datetime.strptime(data[i][1], \"%H:%M\")  #parse time define the hour and the minute\n",
    "    hours[i] = datetime_obj.hour + datetime_obj.minute / 60     #add the minutes / 60 to the hours to get total hours\n",
    "    #hours_list.append(hours)  #add values to the list\n",
    "    #rounded_hours = [round(hours,1)for hours in hours_list] \n",
    "    height[i] = data[i][2]\n",
    "\n"
   ]
  },
  {
   "cell_type": "code",
   "execution_count": 88,
   "id": "a448293a-cbfb-4ab3-86ca-53e11bae2afa",
   "metadata": {},
   "outputs": [
    {
     "name": "stdout",
     "output_type": "stream",
     "text": [
      "['1', '1', '2', '2', '3', '3', '4', '4', '5', '5', '6', '6', '7', '7', '8', '8', '9', '9', '10', '10', '11', '11', '12', '12', '13', '13', '14', '14', '15', '15', '16', '16', '17', '17', '18', '18', '19', '19', '20', '20', '21', '21', '22', '22', '23', '23', '24', '24', '25', '25', '26', '26', '27', '27', '28', '28', '29', '29', '30', '30', '31', '31', '32', '32', '33', '33', '34', '34', '35', '35', '36', '36', '37', '37', '38', '38', '39', '39', '40', '40', '41', '41']\n",
      "['8:07', '15:37', '8:55', '16:25', '9:45', '17:14', '10:35', '18:00', '11:28', '18:46', '12:22', '19:31', '13:24', '20:16', '3:22', '21:01', '4:07', '21:46', '4:50', '11:58', '5:31', '12:56', '6:08', '13:45', '6:47', '14:25', '7:22', '15:00', '7:59', '15:34', '8:34', '16:08', '9:10', '16:41', '9:45', '17:12', '10:21', '17:45', '10:57', '18:15', '11:38', '18:48', '12:25', '19:20', '2:22', '19:52', '2:58', '20:30', '3:37', '10:44', '4:23', '11:55', '5:15', '12:57', '6:09', '13:50', '7:05', '14:39', '7:58', '15:27', '8:50', '16:10', '9:40', '16:52', '10:30', '17:34', '11:19', '18:12', '12:10', '18:49', '1:32', '19:24', '2:13', '20:00', '2:54', '9:54', '3:39', '11:15', '4:29', '12:22', '5:21', '13:14']\n",
      "['6.57\\n', '-0.39\\n', '5.38\\n', '-1.74\\n', '5.26\\n', '-1.36\\n', '4.13\\n', '-1.15\\n', '3.48\\n', '-1.61\\n', '2.62\\n', '0.05\\n', '1.83\\n', '1.01\\n', '', '0.73\\n', '4.54\\n', '2.17\\n', '3.76\\n', '2.88\\n', '3.90\\n', '1.92\\n', '4.73\\n', '1.74\\n', '5.66\\n', '0.79\\n', '5.33\\n', '-0.04\\n', '5.23\\n', '-1.12\\n', '6.67\\n', '-0.61\\n', '4.74\\n', '-0.93\\n', '4.69\\n', '-1.29\\n', '4.20\\n', '0.22\\n', '3.68\\n', '0.26\\n', '2.47\\n', '0.36\\n', '2.59\\n', '0.99\\n', '4.10\\n', '1.87\\n', '3.17\\n', '1.60\\n', '3.71\\n', '3.10\\n', '4.04\\n', '2.49\\n', '4.07\\n', '2.18\\n', '5.93\\n', '0.70\\n', '6.89\\n', '0.21\\n', '6.72\\n', '0.22\\n', '6.77\\n', '-1.68\\n', '5.77\\n', '-1.32\\n', '4.35\\n', '-0.73\\n', '4.23\\n', '-0.38\\n', '2.24\\n', '-0.61\\n', '3.45\\n', '-0.46\\n', '4.13\\n', '1.21\\n', '3.34\\n', '2.58\\n', '3.32\\n', '3.26\\n', '5.21\\n', '2.39\\n', '4.83\\n', '2.41\\n']\n"
     ]
    }
   ],
   "source": [
    "# #reading and utilizing the txt file\n",
    "# fname = 'group-data.txt'    #define filename\n",
    "# f = open(fname, 'r')   #open file\n",
    "# group_data = f.readlines()    #read file\n",
    "# day = []\n",
    "# times = []\n",
    "# height = []\n",
    "# for x in group_data:\n",
    "#         day.append(float(x.split(' ')[0]))      #use only the first column  \n",
    "#         times.append(x.split(' ')[1])\n",
    "#         height.append(x.split(' ')[2])   #use only the 3rd column \n",
    "# #z = height\n",
    "# y = times\n",
    "# #x = day\n",
    "# print(x)\n",
    "# print(y)\n",
    "# print(z)\n",
    "# f.close()"
   ]
  },
  {
   "cell_type": "code",
   "execution_count": 118,
   "id": "633d918b-d4a9-486f-a0ee-e06558560344",
   "metadata": {},
   "outputs": [
    {
     "ename": "ValueError",
     "evalue": "x and y must have same first dimension, but have shapes (1,) and (82,)",
     "output_type": "error",
     "traceback": [
      "\u001b[0;31m---------------------------------------------------------------------------\u001b[0m",
      "\u001b[0;31mValueError\u001b[0m                                Traceback (most recent call last)",
      "Cell \u001b[0;32mIn[118], line 3\u001b[0m\n\u001b[1;32m      1\u001b[0m \u001b[38;5;66;03m#f, ax = plt.subplots(1,1, figsize=(20,12))\u001b[39;00m\n\u001b[1;32m      2\u001b[0m plt\u001b[38;5;241m.\u001b[39mfigure()\n\u001b[0;32m----> 3\u001b[0m \u001b[43mplt\u001b[49m\u001b[38;5;241;43m.\u001b[39;49m\u001b[43mplot\u001b[49m\u001b[43m(\u001b[49m\u001b[43mx\u001b[49m\u001b[43m,\u001b[49m\u001b[43mz\u001b[49m\u001b[43m)\u001b[49m\n\u001b[1;32m      4\u001b[0m plt\u001b[38;5;241m.\u001b[39mylim(\u001b[38;5;241m-\u001b[39m\u001b[38;5;241m2\u001b[39m,\u001b[38;5;241m8\u001b[39m)\n\u001b[1;32m      5\u001b[0m plt\u001b[38;5;241m.\u001b[39mshow()\n",
      "File \u001b[0;32m/Library/Frameworks/Python.framework/Versions/3.12/lib/python3.12/site-packages/matplotlib/pyplot.py:3578\u001b[0m, in \u001b[0;36mplot\u001b[0;34m(scalex, scaley, data, *args, **kwargs)\u001b[0m\n\u001b[1;32m   3570\u001b[0m \u001b[38;5;129m@_copy_docstring_and_deprecators\u001b[39m(Axes\u001b[38;5;241m.\u001b[39mplot)\n\u001b[1;32m   3571\u001b[0m \u001b[38;5;28;01mdef\u001b[39;00m \u001b[38;5;21mplot\u001b[39m(\n\u001b[1;32m   3572\u001b[0m     \u001b[38;5;241m*\u001b[39margs: \u001b[38;5;28mfloat\u001b[39m \u001b[38;5;241m|\u001b[39m ArrayLike \u001b[38;5;241m|\u001b[39m \u001b[38;5;28mstr\u001b[39m,\n\u001b[0;32m   (...)\u001b[0m\n\u001b[1;32m   3576\u001b[0m     \u001b[38;5;241m*\u001b[39m\u001b[38;5;241m*\u001b[39mkwargs,\n\u001b[1;32m   3577\u001b[0m ) \u001b[38;5;241m-\u001b[39m\u001b[38;5;241m>\u001b[39m \u001b[38;5;28mlist\u001b[39m[Line2D]:\n\u001b[0;32m-> 3578\u001b[0m     \u001b[38;5;28;01mreturn\u001b[39;00m \u001b[43mgca\u001b[49m\u001b[43m(\u001b[49m\u001b[43m)\u001b[49m\u001b[38;5;241;43m.\u001b[39;49m\u001b[43mplot\u001b[49m\u001b[43m(\u001b[49m\n\u001b[1;32m   3579\u001b[0m \u001b[43m        \u001b[49m\u001b[38;5;241;43m*\u001b[39;49m\u001b[43margs\u001b[49m\u001b[43m,\u001b[49m\n\u001b[1;32m   3580\u001b[0m \u001b[43m        \u001b[49m\u001b[43mscalex\u001b[49m\u001b[38;5;241;43m=\u001b[39;49m\u001b[43mscalex\u001b[49m\u001b[43m,\u001b[49m\n\u001b[1;32m   3581\u001b[0m \u001b[43m        \u001b[49m\u001b[43mscaley\u001b[49m\u001b[38;5;241;43m=\u001b[39;49m\u001b[43mscaley\u001b[49m\u001b[43m,\u001b[49m\n\u001b[1;32m   3582\u001b[0m \u001b[43m        \u001b[49m\u001b[38;5;241;43m*\u001b[39;49m\u001b[38;5;241;43m*\u001b[39;49m\u001b[43m(\u001b[49m\u001b[43m{\u001b[49m\u001b[38;5;124;43m\"\u001b[39;49m\u001b[38;5;124;43mdata\u001b[39;49m\u001b[38;5;124;43m\"\u001b[39;49m\u001b[43m:\u001b[49m\u001b[43m \u001b[49m\u001b[43mdata\u001b[49m\u001b[43m}\u001b[49m\u001b[43m \u001b[49m\u001b[38;5;28;43;01mif\u001b[39;49;00m\u001b[43m \u001b[49m\u001b[43mdata\u001b[49m\u001b[43m \u001b[49m\u001b[38;5;129;43;01mis\u001b[39;49;00m\u001b[43m \u001b[49m\u001b[38;5;129;43;01mnot\u001b[39;49;00m\u001b[43m \u001b[49m\u001b[38;5;28;43;01mNone\u001b[39;49;00m\u001b[43m \u001b[49m\u001b[38;5;28;43;01melse\u001b[39;49;00m\u001b[43m \u001b[49m\u001b[43m{\u001b[49m\u001b[43m}\u001b[49m\u001b[43m)\u001b[49m\u001b[43m,\u001b[49m\n\u001b[1;32m   3583\u001b[0m \u001b[43m        \u001b[49m\u001b[38;5;241;43m*\u001b[39;49m\u001b[38;5;241;43m*\u001b[39;49m\u001b[43mkwargs\u001b[49m\u001b[43m,\u001b[49m\n\u001b[1;32m   3584\u001b[0m \u001b[43m    \u001b[49m\u001b[43m)\u001b[49m\n",
      "File \u001b[0;32m/Library/Frameworks/Python.framework/Versions/3.12/lib/python3.12/site-packages/matplotlib/axes/_axes.py:1721\u001b[0m, in \u001b[0;36mAxes.plot\u001b[0;34m(self, scalex, scaley, data, *args, **kwargs)\u001b[0m\n\u001b[1;32m   1478\u001b[0m \u001b[38;5;250m\u001b[39m\u001b[38;5;124;03m\"\"\"\u001b[39;00m\n\u001b[1;32m   1479\u001b[0m \u001b[38;5;124;03mPlot y versus x as lines and/or markers.\u001b[39;00m\n\u001b[1;32m   1480\u001b[0m \n\u001b[0;32m   (...)\u001b[0m\n\u001b[1;32m   1718\u001b[0m \u001b[38;5;124;03m(``'green'``) or hex strings (``'#008000'``).\u001b[39;00m\n\u001b[1;32m   1719\u001b[0m \u001b[38;5;124;03m\"\"\"\u001b[39;00m\n\u001b[1;32m   1720\u001b[0m kwargs \u001b[38;5;241m=\u001b[39m cbook\u001b[38;5;241m.\u001b[39mnormalize_kwargs(kwargs, mlines\u001b[38;5;241m.\u001b[39mLine2D)\n\u001b[0;32m-> 1721\u001b[0m lines \u001b[38;5;241m=\u001b[39m [\u001b[38;5;241m*\u001b[39m\u001b[38;5;28mself\u001b[39m\u001b[38;5;241m.\u001b[39m_get_lines(\u001b[38;5;28mself\u001b[39m, \u001b[38;5;241m*\u001b[39margs, data\u001b[38;5;241m=\u001b[39mdata, \u001b[38;5;241m*\u001b[39m\u001b[38;5;241m*\u001b[39mkwargs)]\n\u001b[1;32m   1722\u001b[0m \u001b[38;5;28;01mfor\u001b[39;00m line \u001b[38;5;129;01min\u001b[39;00m lines:\n\u001b[1;32m   1723\u001b[0m     \u001b[38;5;28mself\u001b[39m\u001b[38;5;241m.\u001b[39madd_line(line)\n",
      "File \u001b[0;32m/Library/Frameworks/Python.framework/Versions/3.12/lib/python3.12/site-packages/matplotlib/axes/_base.py:303\u001b[0m, in \u001b[0;36m_process_plot_var_args.__call__\u001b[0;34m(self, axes, data, *args, **kwargs)\u001b[0m\n\u001b[1;32m    301\u001b[0m     this \u001b[38;5;241m+\u001b[39m\u001b[38;5;241m=\u001b[39m args[\u001b[38;5;241m0\u001b[39m],\n\u001b[1;32m    302\u001b[0m     args \u001b[38;5;241m=\u001b[39m args[\u001b[38;5;241m1\u001b[39m:]\n\u001b[0;32m--> 303\u001b[0m \u001b[38;5;28;01myield from\u001b[39;00m \u001b[38;5;28;43mself\u001b[39;49m\u001b[38;5;241;43m.\u001b[39;49m\u001b[43m_plot_args\u001b[49m\u001b[43m(\u001b[49m\n\u001b[1;32m    304\u001b[0m \u001b[43m    \u001b[49m\u001b[43maxes\u001b[49m\u001b[43m,\u001b[49m\u001b[43m \u001b[49m\u001b[43mthis\u001b[49m\u001b[43m,\u001b[49m\u001b[43m \u001b[49m\u001b[43mkwargs\u001b[49m\u001b[43m,\u001b[49m\u001b[43m \u001b[49m\u001b[43mambiguous_fmt_datakey\u001b[49m\u001b[38;5;241;43m=\u001b[39;49m\u001b[43mambiguous_fmt_datakey\u001b[49m\u001b[43m)\u001b[49m\n",
      "File \u001b[0;32m/Library/Frameworks/Python.framework/Versions/3.12/lib/python3.12/site-packages/matplotlib/axes/_base.py:499\u001b[0m, in \u001b[0;36m_process_plot_var_args._plot_args\u001b[0;34m(self, axes, tup, kwargs, return_kwargs, ambiguous_fmt_datakey)\u001b[0m\n\u001b[1;32m    496\u001b[0m     axes\u001b[38;5;241m.\u001b[39myaxis\u001b[38;5;241m.\u001b[39mupdate_units(y)\n\u001b[1;32m    498\u001b[0m \u001b[38;5;28;01mif\u001b[39;00m x\u001b[38;5;241m.\u001b[39mshape[\u001b[38;5;241m0\u001b[39m] \u001b[38;5;241m!=\u001b[39m y\u001b[38;5;241m.\u001b[39mshape[\u001b[38;5;241m0\u001b[39m]:\n\u001b[0;32m--> 499\u001b[0m     \u001b[38;5;28;01mraise\u001b[39;00m \u001b[38;5;167;01mValueError\u001b[39;00m(\u001b[38;5;124mf\u001b[39m\u001b[38;5;124m\"\u001b[39m\u001b[38;5;124mx and y must have same first dimension, but \u001b[39m\u001b[38;5;124m\"\u001b[39m\n\u001b[1;32m    500\u001b[0m                      \u001b[38;5;124mf\u001b[39m\u001b[38;5;124m\"\u001b[39m\u001b[38;5;124mhave shapes \u001b[39m\u001b[38;5;132;01m{\u001b[39;00mx\u001b[38;5;241m.\u001b[39mshape\u001b[38;5;132;01m}\u001b[39;00m\u001b[38;5;124m and \u001b[39m\u001b[38;5;132;01m{\u001b[39;00my\u001b[38;5;241m.\u001b[39mshape\u001b[38;5;132;01m}\u001b[39;00m\u001b[38;5;124m\"\u001b[39m)\n\u001b[1;32m    501\u001b[0m \u001b[38;5;28;01mif\u001b[39;00m x\u001b[38;5;241m.\u001b[39mndim \u001b[38;5;241m>\u001b[39m \u001b[38;5;241m2\u001b[39m \u001b[38;5;129;01mor\u001b[39;00m y\u001b[38;5;241m.\u001b[39mndim \u001b[38;5;241m>\u001b[39m \u001b[38;5;241m2\u001b[39m:\n\u001b[1;32m    502\u001b[0m     \u001b[38;5;28;01mraise\u001b[39;00m \u001b[38;5;167;01mValueError\u001b[39;00m(\u001b[38;5;124mf\u001b[39m\u001b[38;5;124m\"\u001b[39m\u001b[38;5;124mx and y can be no greater than 2D, but have \u001b[39m\u001b[38;5;124m\"\u001b[39m\n\u001b[1;32m    503\u001b[0m                      \u001b[38;5;124mf\u001b[39m\u001b[38;5;124m\"\u001b[39m\u001b[38;5;124mshapes \u001b[39m\u001b[38;5;132;01m{\u001b[39;00mx\u001b[38;5;241m.\u001b[39mshape\u001b[38;5;132;01m}\u001b[39;00m\u001b[38;5;124m and \u001b[39m\u001b[38;5;132;01m{\u001b[39;00my\u001b[38;5;241m.\u001b[39mshape\u001b[38;5;132;01m}\u001b[39;00m\u001b[38;5;124m\"\u001b[39m)\n",
      "\u001b[0;31mValueError\u001b[0m: x and y must have same first dimension, but have shapes (1,) and (82,)"
     ]
    },
    {
     "data": {
      "image/png": "[encoded data removed]",
      "text/plain": [
       "<Figure size 640x480 with 1 Axes>"
      ]
     },
     "metadata": {},
     "output_type": "display_data"
    }
   ],
   "source": [
    "#f, ax = plt.subplots(1,1, figsize=(20,12))\n",
    "plt.figure()\n",
    "plt.plot(x,z)\n",
    "plt.ylim(-2,8)\n",
    "plt.show()\n"
   ]
  },
  {
   "cell_type": "code",
   "execution_count": 96,
   "id": "302e6360-01cf-4866-85ee-ffb2b592ea18",
   "metadata": {},
   "outputs": [
    {
     "name": "stdout",
     "output_type": "stream",
     "text": [
      "['1', '1', '2', '2', '3', '3', '4', '4', '5', '5', '6', '6', '7', '7', '8', '8', '9', '9', '10', '10', '11', '11', '12', '12', '13', '13', '14', '14', '15', '15', '16', '16', '17', '17', '18', '18', '19', '19', '20', '20', '21', '21', '22', '22', '23', '23', '24', '24', '25', '25', '26', '26', '27', '27', '28', '28', '29', '29', '30', '30', '31', '31', '32', '32', '33', '33', '34', '34', '35', '35', '36', '36', '37', '37', '38', '38', '39', '39', '40', '40', '41', '41']\n"
     ]
    }
   ],
   "source": [
    "print(x)"
   ]
  },
  {
   "cell_type": "code",
   "execution_count": 97,
   "id": "c660293d-dd8d-4276-ab9c-93eca5e3caa5",
   "metadata": {},
   "outputs": [
    {
     "name": "stdout",
     "output_type": "stream",
     "text": [
      "['6.57\\n', '-0.39\\n', '5.38\\n', '-1.74\\n', '5.26\\n', '-1.36\\n', '4.13\\n', '-1.15\\n', '3.48\\n', '-1.61\\n', '2.62\\n', '0.05\\n', '1.83\\n', '1.01\\n', '', '0.73\\n', '4.54\\n', '2.17\\n', '3.76\\n', '2.88\\n', '3.90\\n', '1.92\\n', '4.73\\n', '1.74\\n', '5.66\\n', '0.79\\n', '5.33\\n', '-0.04\\n', '5.23\\n', '-1.12\\n', '6.67\\n', '-0.61\\n', '4.74\\n', '-0.93\\n', '4.69\\n', '-1.29\\n', '4.20\\n', '0.22\\n', '3.68\\n', '0.26\\n', '2.47\\n', '0.36\\n', '2.59\\n', '0.99\\n', '4.10\\n', '1.87\\n', '3.17\\n', '1.60\\n', '3.71\\n', '3.10\\n', '4.04\\n', '2.49\\n', '4.07\\n', '2.18\\n', '5.93\\n', '0.70\\n', '6.89\\n', '0.21\\n', '6.72\\n', '0.22\\n', '6.77\\n', '-1.68\\n', '5.77\\n', '-1.32\\n', '4.35\\n', '-0.73\\n', '4.23\\n', '-0.38\\n', '2.24\\n', '-0.61\\n', '3.45\\n', '-0.46\\n', '4.13\\n', '1.21\\n', '3.34\\n', '2.58\\n', '3.32\\n', '3.26\\n', '5.21\\n', '2.39\\n', '4.83\\n', '2.41\\n']\n"
     ]
    }
   ],
   "source": [
    "print(z)"
   ]
  },
  {
   "cell_type": "code",
   "execution_count": 98,
   "id": "7bb6fe46-744f-43ea-bf84-755f738b1d7c",
   "metadata": {},
   "outputs": [
    {
     "ename": "TypeError",
     "evalue": "float() argument must be a string or a real number, not 'list'",
     "output_type": "error",
     "traceback": [
      "\u001b[0;31m---------------------------------------------------------------------------\u001b[0m",
      "\u001b[0;31mTypeError\u001b[0m                                 Traceback (most recent call last)",
      "Cell \u001b[0;32mIn[98], line 1\u001b[0m\n\u001b[0;32m----> 1\u001b[0m \u001b[38;5;28mprint\u001b[39m(\u001b[38;5;28;43mfloat\u001b[39;49m\u001b[43m(\u001b[49m\u001b[43mz\u001b[49m\u001b[43m)\u001b[49m)\n",
      "\u001b[0;31mTypeError\u001b[0m: float() argument must be a string or a real number, not 'list'"
     ]
    }
   ],
   "source": [
    "print(float(z))"
   ]
  },
  {
   "cell_type": "code",
   "execution_count": null,
   "id": "e3db60d6-7d19-440a-a524-347f05a91fc6",
   "metadata": {},
   "outputs": [],
   "source": []
  }
 ],
 "metadata": {
  "kernelspec": {
   "display_name": "Python 3 (ipykernel)",
   "language": "python",
   "name": "python3"
  },
  "language_info": {
   "codemirror_mode": {
    "name": "ipython",
    "version": 3
   },
   "file_extension": ".py",
   "mimetype": "text/x-python",
   "name": "python",
   "nbconvert_exporter": "python",
   "pygments_lexer": "ipython3",
   "version": "3.12.0"
  }
 },
 "nbformat": 4,
 "nbformat_minor": 5
}
