{
 "cells": [
  {
   "cell_type": "markdown",
   "id": "55c920f7",
   "metadata": {},
   "source": [
    "# Tidal Report\n",
    "blah blah blah blah"
   ]
  },
  {
   "cell_type": "code",
   "execution_count": 1,
   "id": "bf6b0c38",
   "metadata": {},
   "outputs": [],
   "source": [
    "import matplotlib.pyplot as plt\n",
    "import numpy as np"
   ]
  },
  {
   "cell_type": "code",
   "execution_count": null,
   "id": "3de104ff",
   "metadata": {},
   "outputs": [],
   "source": [
    "def osc"
   ]
  }
 ],
 "metadata": {
  "kernelspec": {
   "display_name": "Python 3 (ipykernel)",
   "language": "python",
   "name": "python3"
  },
  "language_info": {
   "codemirror_mode": {
    "name": "ipython",
    "version": 3
   },
   "file_extension": ".py",
   "mimetype": "text/x-python",
   "name": "python",
   "nbconvert_exporter": "python",
   "pygments_lexer": "ipython3",
   "version": "3.11.0"
  }
 },
 "nbformat": 4,
 "nbformat_minor": 5
}
